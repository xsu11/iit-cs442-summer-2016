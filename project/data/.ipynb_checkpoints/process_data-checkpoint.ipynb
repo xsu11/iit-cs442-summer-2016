{
 "cells": [
  {
   "cell_type": "code",
   "execution_count": 1,
   "metadata": {
    "collapsed": false
   },
   "outputs": [],
   "source": [
    "# import\n",
    "%matplotlib inline\n",
    "import matplotlib.pyplot as plt\n",
    "import numpy as np\n",
    "import pandas as pd\n",
    "pd.set_option('display.max_columns', None)"
   ]
  },
  {
   "cell_type": "code",
   "execution_count": 39,
   "metadata": {
    "collapsed": false,
    "scrolled": true
   },
   "outputs": [
    {
     "name": "stdout",
     "output_type": "stream",
     "text": [
      "<class 'pandas.core.frame.DataFrame'>\n"
     ]
    }
   ],
   "source": [
    "fname = 'Crimes_-_2015.csv'\n",
    "\n",
    "pdata = pd.read_csv(fname)\n",
    "print type(pdata)"
   ]
  },
  {
   "cell_type": "code",
   "execution_count": 67,
   "metadata": {
    "collapsed": false,
    "scrolled": true
   },
   "outputs": [
    {
     "name": "stdout",
     "output_type": "stream",
     "text": [
      "Index([u'ID', u'Case Number', u'Date', u'Block', u'IUCR', u'Primary Type',\n",
      "       u'Description', u'Location Description', u'Arrest', u'Domestic',\n",
      "       u'Beat', u'District', u'Ward', u'Community Area', u'FBI Code',\n",
      "       u'X Coordinate', u'Y Coordinate', u'Year', u'Updated On', u'Latitude',\n",
      "       u'Longitude', u'Location'],\n",
      "      dtype='object')\n",
      "(261922, 22)\n",
      "ID                        int64\n",
      "Case Number              object\n",
      "Date                     object\n",
      "Block                    object\n",
      "IUCR                     object\n",
      "Primary Type             object\n",
      "Description              object\n",
      "Location Description     object\n",
      "Arrest                     bool\n",
      "Domestic                   bool\n",
      "Beat                      int64\n",
      "District                  int64\n",
      "Ward                    float64\n",
      "Community Area            int64\n",
      "FBI Code                 object\n",
      "X Coordinate            float64\n",
      "Y Coordinate            float64\n",
      "Year                      int64\n",
      "Updated On               object\n",
      "Latitude                float64\n",
      "Longitude               float64\n",
      "Location                 object\n",
      "dtype: object\n"
     ]
    }
   ],
   "source": [
    "print pdata.columns\n",
    "print pdata.shape\n",
    "print pdata.dtypes"
   ]
  },
  {
   "cell_type": "code",
   "execution_count": 72,
   "metadata": {
    "collapsed": false
   },
   "outputs": [
    {
     "name": "stdout",
     "output_type": "stream",
     "text": [
      " 0 ID\n",
      "1 Case Number\n",
      "2 Date\n",
      "3 Block\n",
      "4 IUCR\n",
      "5 Primary Type\n",
      "6 Description\n",
      "7 Location Description\n",
      "8 Arrest\n",
      "9 Domestic\n",
      "10 Beat\n",
      "11 District\n",
      "12 Ward\n",
      "13 Community Area\n",
      "14 FBI Code\n",
      "15 X Coordinate\n",
      "16 Y Coordinate\n",
      "17 Year\n",
      "18 Updated On\n",
      "19 Latitude\n",
      "20 Longitude\n",
      "21 Location\n"
     ]
    }
   ],
   "source": [
    "for i in range(pdata.shape[1]):\n",
    "    print i, pdata.columns[i]"
   ]
  },
  {
   "cell_type": "code",
   "execution_count": 80,
   "metadata": {
    "collapsed": false,
    "scrolled": true
   },
   "outputs": [
    {
     "name": "stdout",
     "output_type": "stream",
     "text": [
      "(261922, 7)\n",
      "              ID  Beat  District  Ward FBI Code  Year              Updated On\n",
      "261912  10316489  1424        14     1       14  2015  06/18/2016 03:52:05 PM\n",
      "261913  10479519   923         9    14       20  2015  06/18/2016 03:52:05 PM\n",
      "261914  10564160  2535        25    26       11  2015  06/18/2016 03:54:19 PM\n",
      "261915  10564699  1433        14     1       02  2015  06/18/2016 03:54:19 PM\n",
      "261916  10564941  1211        12    26       11  2015  06/18/2016 03:54:19 PM\n",
      "261917  10286804  1221        12    26       02  2015  06/19/2016 03:48:54 PM\n",
      "261918  10329774   414         4     7       06  2015  06/19/2016 03:48:54 PM\n",
      "261919  10565715  1712        17    39       11  2015  06/19/2016 03:51:26 PM\n",
      "261920  10565852  1532        15    28       11  2015  06/19/2016 03:51:26 PM\n",
      "261921  10565898   512         5     9       11  2015  06/19/2016 03:51:26 PM\n"
     ]
    }
   ],
   "source": [
    "glist = [0, 10, 11, 12, 14, 17, 18]\n",
    "gdata = pdata[glist].copy()\n",
    "print gdata.shape\n",
    "print gdata.tail(10)"
   ]
  },
  {
   "cell_type": "code",
   "execution_count": 84,
   "metadata": {
    "collapsed": false
   },
   "outputs": [
    {
     "name": "stdout",
     "output_type": "stream",
     "text": [
      "(261922, 5)\n",
      "              ID  X Coordinate  Y Coordinate   Latitude  Longitude\n",
      "261912  10316489       1162429       1910236  41.909348 -87.678742\n",
      "261913  10479519       1156582       1870329  41.799959 -87.701300\n",
      "261914  10564160           NaN           NaN        NaN        NaN\n",
      "261915  10564699           NaN           NaN        NaN        NaN\n",
      "261916  10564941           NaN           NaN        NaN        NaN\n",
      "261917  10286804       1157493       1905208  41.895652 -87.697012\n",
      "261918  10329774       1192180       1855367  41.758109 -87.571240\n",
      "261919  10565715           NaN           NaN        NaN        NaN\n",
      "261920  10565852           NaN           NaN        NaN        NaN\n",
      "261921  10565898           NaN           NaN        NaN        NaN\n"
     ]
    }
   ],
   "source": [
    "llist = [0, 15, 16, 19, 20]\n",
    "ldata = pdata[llist]\n",
    "print ldata.shape\n",
    "print ldata.tail(10)"
   ]
  },
  {
   "cell_type": "code",
   "execution_count": 78,
   "metadata": {
    "collapsed": false
   },
   "outputs": [
    {
     "name": "stdout",
     "output_type": "stream",
     "text": [
      "(261922, 9)\n",
      "              ID Case Number                    Date                   Block  \\\n",
      "261912  10316489    HY505446  11/17/2015 08:15:00 PM      020XX W PIERCE AVE   \n",
      "261913  10479519    HZ218458  08/01/2015 12:00:00 AM      051XX S ALBANY AVE   \n",
      "261914  10564160    HZ310013  10/06/2015 09:00:00 AM  018XX N MONTICELLO AVE   \n",
      "261915  10564699    HZ311403  09/21/2015 06:00:00 PM    015XX W BLACKHAWK ST   \n",
      "261916  10564941    HZ312159  12/11/2015 12:01:00 AM         026XX W RICE ST   \n",
      "261917  10286804    HY474865  10/24/2015 03:30:00 AM     028XX W CHICAGO AVE   \n",
      "261918  10329774    HY519592  11/29/2015 05:30:00 PM      075XX S PAXTON AVE   \n",
      "261919  10565715    HZ313213  09/12/2015 02:00:00 PM      052XX N SAWYER AVE   \n",
      "261920  10565852    HZ312917  06/16/2015 09:00:00 AM     049XX W MAYPOLE AVE   \n",
      "261921  10565898    HZ312782  08/16/2015 12:15:00 PM        0000X E 105TH ST   \n",
      "\n",
      "        IUCR           Location Description Arrest Domestic  Community Area  \n",
      "261912  1310                         STREET  False    False              24  \n",
      "261913  1752                      RESIDENCE   True     True              63  \n",
      "261914  1150                          OTHER  False    False              22  \n",
      "261915  0281                          ALLEY  False    False              24  \n",
      "261916  1153                      RESIDENCE  False    False              24  \n",
      "261917  0281                  BAR OR TAVERN  False    False              23  \n",
      "261918  0820  RESIDENTIAL YARD (FRONT/BACK)   True    False              43  \n",
      "261919  1130                      RESIDENCE  False    False              13  \n",
      "261920  1153                            NaN  False    False              25  \n",
      "261921  1153                            NaN  False    False              49  \n"
     ]
    }
   ],
   "source": [
    "dlist = [0, 1, 2, 3, 4, 7, 8, 9, 13, 14]\n",
    "data = pdata[dlist]\n",
    "print data.shape\n",
    "print data.tail(10)"
   ]
  },
  {
   "cell_type": "code",
   "execution_count": 81,
   "metadata": {
    "collapsed": false
   },
   "outputs": [],
   "source": [
    "gfile = open('gdata.csv','wb+')\n",
    "gdata.to_csv(gfile, index=False)"
   ]
  },
  {
   "cell_type": "code",
   "execution_count": 83,
   "metadata": {
    "collapsed": false
   },
   "outputs": [],
   "source": [
    "lfile = open('ldata.csv','wb+')\n",
    "ldata.to_csv(lfile, index=False)"
   ]
  },
  {
   "cell_type": "code",
   "execution_count": 88,
   "metadata": {
    "collapsed": true
   },
   "outputs": [],
   "source": [
    "dfile = open('data.csv','wb+')\n",
    "data.to_csv(dfile, index=False)"
   ]
  }
 ],
 "metadata": {
  "kernelspec": {
   "display_name": "Python 2",
   "language": "python",
   "name": "python2"
  },
  "language_info": {
   "codemirror_mode": {
    "name": "ipython",
    "version": 2
   },
   "file_extension": ".py",
   "mimetype": "text/x-python",
   "name": "python",
   "nbconvert_exporter": "python",
   "pygments_lexer": "ipython2",
   "version": "2.7.11"
  }
 },
 "nbformat": 4,
 "nbformat_minor": 0
}
